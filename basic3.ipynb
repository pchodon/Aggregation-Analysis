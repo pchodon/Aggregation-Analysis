{
  "cells": [
    {
      "cell_type": "markdown",
      "metadata": {
        "id": "view-in-github",
        "colab_type": "text"
      },
      "source": [
        "<a href=\"https://colab.research.google.com/github/pchodon/Aggregation-Analysis/blob/main/basic3.ipynb\" target=\"_parent\"><img src=\"https://colab.research.google.com/assets/colab-badge.svg\" alt=\"Open In Colab\"/></a>"
      ]
    },
    {
      "cell_type": "code",
      "execution_count": null,
      "metadata": {
        "colab": {
          "base_uri": "https://localhost:8080/"
        },
        "id": "RDNz6vsOZEwk",
        "outputId": "67eee72a-ef34-4424-f5a7-feade108bdb2"
      },
      "outputs": [
        {
          "output_type": "stream",
          "name": "stdout",
          "text": [
            "Mounted at /content/drive\n"
          ]
        }
      ],
      "source": [
        "from google.colab import drive\n",
        "drive.mount('/content/drive')"
      ]
    },
    {
      "cell_type": "code",
      "execution_count": 47,
      "metadata": {
        "colab": {
          "base_uri": "https://localhost:8080/"
        },
        "id": "Nqai-PcsZYQ0",
        "outputId": "3969ee81-7fcc-4111-8d9e-70197abe95a1"
      },
      "outputs": [
        {
          "output_type": "stream",
          "name": "stdout",
          "text": [
            "              Date  Present_Tmax  Present_Tmin \n",
            "station                                        \n",
            "1       2013-06-30          28.7           21.4\n",
            "2       2013-06-30          31.9           21.6\n",
            "3       2013-06-30          31.6           23.3\n",
            "4       2013-06-30          32.0           23.4\n",
            "5       2013-06-30          31.4           21.9\n",
            "...            ...           ...            ...\n",
            "21      2013-06-30          32.0           23.6\n",
            "22      2013-06-30          32.2           23.9\n",
            "23      2013-06-30          32.7           24.4\n",
            "24      2013-06-30          31.5           25.0\n",
            "25      2013-06-30          32.5           24.2\n",
            "\n",
            "[150 rows x 3 columns]\n"
          ]
        }
      ],
      "source": [
        "import multiprocessing\n",
        "import time\n",
        "from csv import reader\n",
        "from google.colab import files\n",
        "import pandas as pd\n",
        "import threading\n",
        "import os\n",
        "import tensorflow as tf\n",
        "import numpy as np\n",
        "import sys\n",
        "import matplotlib.pyplot as plt\n",
        "  \n",
        "data = []\n",
        "with open('/content/drive/MyDrive/Bias_correction_ucl.csv', 'r',encoding=\"ISO-8859-1\") as data:\n",
        "  df_weather = pd.read_csv(data, parse_dates=[\"Date\"])\n",
        "\n",
        "df_grp = (df_weather.groupby(['station']).groups)\n",
        "result = (df_grp[2][3])\n",
        "\n",
        "outcome = df_weather.set_index(\"station\")\n",
        "\n",
        "print(outcome)\n"
      ]
    }
  ],
  "metadata": {
    "colab": {
      "provenance": [],
      "mount_file_id": "https://github.com/pchodon/Aggregation-Analysis/blob/main/basic2.ipynb",
      "authorship_tag": "ABX9TyPTbz+A1T+sUxf5Xao52NFb",
      "include_colab_link": true
    },
    "kernelspec": {
      "display_name": "Python 3",
      "name": "python3"
    },
    "language_info": {
      "name": "python"
    }
  },
  "nbformat": 4,
  "nbformat_minor": 0
}