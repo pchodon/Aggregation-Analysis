{
  "cells": [
    {
      "cell_type": "markdown",
      "metadata": {
        "id": "view-in-github",
        "colab_type": "text"
      },
      "source": [
        "<a href=\"https://colab.research.google.com/github/pchodon/Aggregation-Analysis/blob/main/basic8.ipynb\" target=\"_parent\"><img src=\"https://colab.research.google.com/assets/colab-badge.svg\" alt=\"Open In Colab\"/></a>"
      ]
    },
    {
      "cell_type": "code",
      "execution_count": null,
      "metadata": {
        "colab": {
          "base_uri": "https://localhost:8080/"
        },
        "id": "RDNz6vsOZEwk",
        "outputId": "67eee72a-ef34-4424-f5a7-feade108bdb2"
      },
      "outputs": [
        {
          "output_type": "stream",
          "name": "stdout",
          "text": [
            "Mounted at /content/drive\n"
          ]
        }
      ],
      "source": [
        "from google.colab import drive\n",
        "drive.mount('/content/drive')"
      ]
    },
    {
      "cell_type": "code",
      "execution_count": 61,
      "metadata": {
        "colab": {
          "base_uri": "https://localhost:8080/"
        },
        "id": "Nqai-PcsZYQ0",
        "outputId": "9f702cec-20a4-409a-eb0a-a4e3f3dea9e2"
      },
      "outputs": [
        {
          "output_type": "stream",
          "name": "stdout",
          "text": [
            "station \t Altitude \t Solar radiation\n",
            "1 \t\t 212 \t\t 5476\n",
            "\n",
            "\n",
            "2 \t\t 44 \t\t 5339\n",
            "\n",
            "\n",
            "3 \t\t 33 \t\t 5334\n",
            "\n",
            "\n",
            "4 \t\t 45 \t\t 5326\n",
            "\n",
            "\n",
            "5 \t\t 35 \t\t 5326\n",
            "\n",
            "\n",
            "6 \t\t 54 \t\t 5340\n",
            "\n",
            "\n",
            "7 \t\t 12 \t\t 5318\n",
            "\n",
            "\n",
            "8 \t\t 52 \t\t 5325\n",
            "\n",
            "\n",
            "9 \t\t 50 \t\t 5347\n",
            "\n",
            "\n",
            "10 \t\t 208 \t\t 5313\n",
            "\n",
            "\n",
            "11 \t\t 28 \t\t 5337\n",
            "\n",
            "\n",
            "12 \t\t 132 \t\t 5388\n",
            "\n",
            "\n",
            "13 \t\t 59 \t\t 5322\n",
            "\n",
            "\n",
            "14 \t\t 30 \t\t 5325\n",
            "\n",
            "\n",
            "15 \t\t 30 \t\t 5341\n",
            "\n",
            "\n",
            "16 \t\t 82 \t\t 5310\n",
            "\n",
            "\n",
            "17 \t\t 53 \t\t 5340\n",
            "\n",
            "\n",
            "18 \t\t 56 \t\t 5325\n",
            "\n",
            "\n",
            "19 \t\t 75 \t\t 5367\n",
            "\n",
            "\n",
            "20 \t\t 146 \t\t 5415\n",
            "\n",
            "\n",
            "21 \t\t 26 \t\t 5330\n",
            "\n",
            "\n",
            "22 \t\t 21 \t\t 5320\n",
            "\n",
            "\n",
            "23 \t\t 15 \t\t 5320\n",
            "\n",
            "\n",
            "24 \t\t 17 \t\t 5317\n",
            "\n",
            "\n"
          ]
        }
      ],
      "source": [
        "import multiprocessing\n",
        "import time\n",
        "from csv import reader\n",
        "from google.colab import files\n",
        "import pandas as pd\n",
        "import threading\n",
        "import os\n",
        "import tensorflow as tf\n",
        "import numpy as np\n",
        "import sys\n",
        "import matplotlib.pyplot as plt\n",
        "import sqlite3\n",
        "import math\n",
        "import pandas as pd\n",
        "from matplotlib import pyplot as plt\n",
        "import seaborn as sns\n",
        "  \n",
        "data = []\n",
        "\n",
        "with open('/content/drive/MyDrive/Bias_correction_ucl.csv', 'r',encoding=\"ISO-8859-1\") as data:\n",
        "  df_weather = pd.read_csv(data, parse_dates=[\"station\"])\n",
        "\n",
        "outcome_date = df_weather.set_index(\"Date\")\n",
        "\n",
        "print(\"station\",\"\\t\",\"Altitude\",\"\\t\",\"Solar radiation\"),\n",
        "\n",
        "for count in range(1,25):\n",
        "  outcome_DEM = outcome_date.loc[outcome_date['station'] == str(count), 'DEM'].mean()\n",
        "  outcome_Solar_radiation = outcome_date.loc[outcome_date['station'] == str(count), 'Solar radiation'].mean()\n",
        "  print(count,\"\\t\\t\",math. trunc(outcome_DEM),\"\\t\\t\",math. trunc(outcome_Solar_radiation))\n",
        "  print(\"\\n\")\n",
        " \n",
        "\n",
        "\n",
        "\n",
        "\n",
        "\n",
        "\n",
        "\n"
      ]
    }
  ],
  "metadata": {
    "colab": {
      "provenance": [],
      "mount_file_id": "https://github.com/pchodon/Aggregation-Analysis/blob/main/basic7.ipynb",
      "authorship_tag": "ABX9TyP82Vd2XfLFbBdCa02uoXrV",
      "include_colab_link": true
    },
    "kernelspec": {
      "display_name": "Python 3",
      "name": "python3"
    },
    "language_info": {
      "name": "python"
    }
  },
  "nbformat": 4,
  "nbformat_minor": 0
}