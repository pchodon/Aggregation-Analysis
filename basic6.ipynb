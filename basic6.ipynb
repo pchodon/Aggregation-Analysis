{
  "cells": [
    {
      "cell_type": "markdown",
      "metadata": {
        "id": "view-in-github",
        "colab_type": "text"
      },
      "source": [
        "<a href=\"https://colab.research.google.com/github/pchodon/Aggregation-Analysis/blob/main/basic6.ipynb\" target=\"_parent\"><img src=\"https://colab.research.google.com/assets/colab-badge.svg\" alt=\"Open In Colab\"/></a>"
      ]
    },
    {
      "cell_type": "code",
      "execution_count": null,
      "metadata": {
        "colab": {
          "base_uri": "https://localhost:8080/"
        },
        "id": "RDNz6vsOZEwk",
        "outputId": "67eee72a-ef34-4424-f5a7-feade108bdb2"
      },
      "outputs": [
        {
          "output_type": "stream",
          "name": "stdout",
          "text": [
            "Mounted at /content/drive\n"
          ]
        }
      ],
      "source": [
        "from google.colab import drive\n",
        "drive.mount('/content/drive')"
      ]
    },
    {
      "cell_type": "code",
      "execution_count": 109,
      "metadata": {
        "colab": {
          "base_uri": "https://localhost:8080/"
        },
        "id": "Nqai-PcsZYQ0",
        "outputId": "de5b3492-a041-42cb-aafd-c777cb3475fb"
      },
      "outputs": [
        {
          "output_type": "stream",
          "name": "stdout",
          "text": [
            "station Present_Tmax\n",
            "0 \t 0\n",
            "1 \t 8257\n",
            "2 \t 9156\n",
            "3 \t 9194\n",
            "4 \t 9314\n",
            "5 \t 9020\n",
            "6 \t 9209\n",
            "7 \t 9076\n",
            "8 \t 9080\n",
            "9 \t 9134\n",
            "10 \t 8951\n",
            "11 \t 9202\n",
            "12 \t 8895\n",
            "13 \t 9320\n",
            "14 \t 9171\n",
            "15 \t 9110\n",
            "16 \t 8936\n",
            "17 \t 9144\n",
            "18 \t 9625\n",
            "19 \t 9064\n",
            "20 \t 9115\n",
            "21 \t 9130\n",
            "22 \t 9316\n",
            "23 \t 9470\n"
          ]
        }
      ],
      "source": [
        "import multiprocessing\n",
        "import time\n",
        "from csv import reader\n",
        "from google.colab import files\n",
        "import pandas as pd\n",
        "import threading\n",
        "import os\n",
        "import tensorflow as tf\n",
        "import numpy as np\n",
        "import sys\n",
        "import matplotlib.pyplot as plt\n",
        "import sqlite3\n",
        "import math\n",
        "\n",
        "\n",
        "  \n",
        "data = []\n",
        "with open('/content/drive/MyDrive/Bias_correction_ucl.csv', 'r',encoding=\"ISO-8859-1\") as data:\n",
        "  df_weather = pd.read_csv(data, parse_dates=[\"station\"])\n",
        "\n",
        "\n",
        "outcome_date = df_weather.set_index(\"Date\")\n",
        "\n",
        "print(\"station\",\"Present_Tmax\"),\n",
        "\n",
        "for count in range(0,24):\n",
        "  outcome_final = outcome_date.loc[outcome_date['station'] == str(count), 'Present_Tmax'].sum()\n",
        "  print(count,'\\t',math.trunc(outcome_final)),\n",
        "\n"
      ]
    }
  ],
  "metadata": {
    "colab": {
      "provenance": [],
      "mount_file_id": "https://github.com/pchodon/Aggregation-Analysis/blob/main/basic2.ipynb",
      "authorship_tag": "ABX9TyMRfo7/dSc8mRyh7nnooL8/",
      "include_colab_link": true
    },
    "kernelspec": {
      "display_name": "Python 3",
      "name": "python3"
    },
    "language_info": {
      "name": "python"
    }
  },
  "nbformat": 4,
  "nbformat_minor": 0
}