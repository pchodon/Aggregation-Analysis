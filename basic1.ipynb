{
  "cells": [
    {
      "cell_type": "markdown",
      "metadata": {
        "id": "view-in-github",
        "colab_type": "text"
      },
      "source": [
        "<a href=\"https://colab.research.google.com/github/pchodon/Aggregation-Analysis/blob/main/basic1.ipynb\" target=\"_parent\"><img src=\"https://colab.research.google.com/assets/colab-badge.svg\" alt=\"Open In Colab\"/></a>"
      ]
    },
    {
      "cell_type": "code",
      "execution_count": 53,
      "metadata": {
        "colab": {
          "base_uri": "https://localhost:8080/"
        },
        "id": "RDNz6vsOZEwk",
        "outputId": "7c1d8fdf-4a96-4a26-c456-a22c79b34ab5"
      },
      "outputs": [
        {
          "output_type": "stream",
          "name": "stdout",
          "text": [
            "Drive already mounted at /content/drive; to attempt to forcibly remount, call drive.mount(\"/content/drive\", force_remount=True).\n"
          ]
        }
      ],
      "source": [
        "from google.colab import drive\n",
        "drive.mount('/content/drive')"
      ]
    },
    {
      "cell_type": "code",
      "execution_count": 92,
      "metadata": {
        "colab": {
          "base_uri": "https://localhost:8080/"
        },
        "id": "Nqai-PcsZYQ0",
        "outputId": "4b6a7a08-83c0-4fa0-fa3a-895eff9e800e"
      },
      "outputs": [
        {
          "output_type": "stream",
          "name": "stdout",
          "text": [
            "{1: [0, 25, 50, 75], 2: [1, 26, 51, 76], 3: [2, 27, 52, 77], 4: [3, 28, 53, 78], 5: [4, 29, 54, 79], 6: [5, 30, 55, 80], 7: [6, 31, 56, 81], 8: [7, 32, 57, 82], 9: [8, 33, 58, 83], 10: [9, 34, 59, 84], 11: [10, 35, 60, 85], 12: [11, 36, 61, 86], 13: [12, 37, 62, 87], 14: [13, 38, 63, 88], 15: [14, 39, 64, 89], 16: [15, 40, 65, 90], 17: [16, 41, 66, 91], 18: [17, 42, 67, 92], 19: [18, 43, 68, 93], 20: [19, 44, 69, 94], 21: [20, 45, 70, 95], 22: [21, 46, 71, 96], 23: [22, 47, 72, 97], 24: [23, 48, 73, 98], 25: [24, 49, 74, 99]}\n"
          ]
        }
      ],
      "source": [
        "import multiprocessing\n",
        "import time\n",
        "from csv import reader\n",
        "from google.colab import files\n",
        "import pandas as pd\n",
        "import threading\n",
        "import os\n",
        "import tensorflow as tf\n",
        "import numpy as np\n",
        "import sys\n",
        "import matplotlib.pyplot as plt\n",
        "  \n",
        "data = []\n",
        "with open('/content/drive/MyDrive/Bias_correction_ucl.csv', 'r',encoding=\"ISO-8859-1\") as data:\n",
        "  df_weather = pd.read_csv(data, parse_dates=[\"Date\"])\n",
        "\n",
        "\n",
        "print(df_weather.groupby(['station']).groups)\n",
        "\n"
      ]
    }
  ],
  "metadata": {
    "colab": {
      "provenance": [],
      "mount_file_id": "1wXZczkzQ3eyYT2qbS5T9hkUfUgFTKk1i",
      "authorship_tag": "ABX9TyMrYJSPkLuEhkyn0SITElHg",
      "include_colab_link": true
    },
    "kernelspec": {
      "display_name": "Python 3",
      "name": "python3"
    },
    "language_info": {
      "name": "python"
    }
  },
  "nbformat": 4,
  "nbformat_minor": 0
}