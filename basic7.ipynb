{
  "cells": [
    {
      "cell_type": "markdown",
      "metadata": {
        "id": "view-in-github",
        "colab_type": "text"
      },
      "source": [
        "<a href=\"https://colab.research.google.com/github/pchodon/Aggregation-Analysis/blob/main/basic7.ipynb\" target=\"_parent\"><img src=\"https://colab.research.google.com/assets/colab-badge.svg\" alt=\"Open In Colab\"/></a>"
      ]
    },
    {
      "cell_type": "code",
      "execution_count": null,
      "metadata": {
        "colab": {
          "base_uri": "https://localhost:8080/"
        },
        "id": "RDNz6vsOZEwk",
        "outputId": "67eee72a-ef34-4424-f5a7-feade108bdb2"
      },
      "outputs": [
        {
          "output_type": "stream",
          "name": "stdout",
          "text": [
            "Mounted at /content/drive\n"
          ]
        }
      ],
      "source": [
        "from google.colab import drive\n",
        "drive.mount('/content/drive')"
      ]
    },
    {
      "cell_type": "code",
      "execution_count": 116,
      "metadata": {
        "colab": {
          "base_uri": "https://localhost:8080/"
        },
        "id": "Nqai-PcsZYQ0",
        "outputId": "9b240421-a7db-4ca6-a090-4525939dd298"
      },
      "outputs": [
        {
          "output_type": "stream",
          "name": "stdout",
          "text": [
            "station Present_Tmax outcome_Present_Tmin\n",
            "1 \t 8257 \t 6476\n",
            "2 \t 9156 \t 6879\n",
            "3 \t 9194 \t 7243\n",
            "4 \t 9314 \t 7294\n",
            "5 \t 9020 \t 6982\n",
            "6 \t 9209 \t 7334\n",
            "7 \t 9076 \t 7274\n",
            "8 \t 9080 \t 7242\n",
            "9 \t 9134 \t 7050\n",
            "10 \t 8951 \t 6816\n",
            "11 \t 9202 \t 7211\n",
            "12 \t 8895 \t 6774\n",
            "13 \t 9320 \t 7360\n",
            "14 \t 9171 \t 7218\n",
            "15 \t 9110 \t 7148\n",
            "16 \t 8936 \t 6815\n",
            "17 \t 9144 \t 6742\n",
            "18 \t 9625 \t 7432\n",
            "19 \t 9064 \t 6946\n",
            "20 \t 9115 \t 7101\n",
            "21 \t 9130 \t 7318\n",
            "22 \t 9316 \t 7312\n",
            "23 \t 9470 \t 7497\n",
            "24 \t 9277 \t 7430\n"
          ]
        }
      ],
      "source": [
        "import multiprocessing\n",
        "import time\n",
        "from csv import reader\n",
        "from google.colab import files\n",
        "import pandas as pd\n",
        "import threading\n",
        "import os\n",
        "import tensorflow as tf\n",
        "import numpy as np\n",
        "import sys\n",
        "import matplotlib.pyplot as plt\n",
        "import sqlite3\n",
        "import math\n",
        "\n",
        "\n",
        "  \n",
        "data = []\n",
        "with open('/content/drive/MyDrive/Bias_correction_ucl.csv', 'r',encoding=\"ISO-8859-1\") as data:\n",
        "  df_weather = pd.read_csv(data, parse_dates=[\"station\"])\n",
        "\n",
        "\n",
        "outcome_date = df_weather.set_index(\"Date\")\n",
        "\n",
        "print(\"station\",\"Present_Tmax\",\"outcome_Present_Tmin\"),\n",
        "\n",
        "for count in range(1,25):\n",
        "  outcome_Present_Tmax = outcome_date.loc[outcome_date['station'] == str(count), 'Present_Tmax'].sum()\n",
        "  outcome_Present_Tmin = outcome_date.loc[outcome_date['station'] == str(count), 'Present_Tmin'].sum()\n",
        "  print(count,'\\t',math.trunc(outcome_Present_Tmax),'\\t',math.trunc(outcome_Present_Tmin)),\n",
        "\n",
        "\n",
        "Solar radiation\n",
        "DEM\n",
        "\n",
        "\n",
        "\n"
      ]
    }
  ],
  "metadata": {
    "colab": {
      "provenance": [],
      "mount_file_id": "https://github.com/pchodon/Aggregation-Analysis/blob/main/basic2.ipynb",
      "authorship_tag": "ABX9TyPDJuAS7xK8noJamswFuBDT",
      "include_colab_link": true
    },
    "kernelspec": {
      "display_name": "Python 3",
      "name": "python3"
    },
    "language_info": {
      "name": "python"
    }
  },
  "nbformat": 4,
  "nbformat_minor": 0
}