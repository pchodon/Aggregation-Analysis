{
  "cells": [
    {
      "cell_type": "markdown",
      "metadata": {
        "id": "view-in-github",
        "colab_type": "text"
      },
      "source": [
        "<a href=\"https://colab.research.google.com/github/pchodon/Aggregation-Analysis/blob/main/basic2.ipynb\" target=\"_parent\"><img src=\"https://colab.research.google.com/assets/colab-badge.svg\" alt=\"Open In Colab\"/></a>"
      ]
    },
    {
      "cell_type": "code",
      "execution_count": 2,
      "metadata": {
        "colab": {
          "base_uri": "https://localhost:8080/"
        },
        "id": "RDNz6vsOZEwk",
        "outputId": "67eee72a-ef34-4424-f5a7-feade108bdb2"
      },
      "outputs": [
        {
          "output_type": "stream",
          "name": "stdout",
          "text": [
            "Mounted at /content/drive\n"
          ]
        }
      ],
      "source": [
        "from google.colab import drive\n",
        "drive.mount('/content/drive')"
      ]
    },
    {
      "cell_type": "code",
      "execution_count": 3,
      "metadata": {
        "colab": {
          "base_uri": "https://localhost:8080/"
        },
        "id": "Nqai-PcsZYQ0",
        "outputId": "0af2cf92-9cb3-4b85-91d0-490595dffef5"
      },
      "outputs": [
        {
          "output_type": "stream",
          "name": "stdout",
          "text": [
            "{1: [0, 25, 50, 75, 100, 125], 2: [1, 26, 51, 76, 101, 126], 3: [2, 27, 52, 77, 102, 127], 4: [3, 28, 53, 78, 103, 128], 5: [4, 29, 54, 79, 104, 129], 6: [5, 30, 55, 80, 105, 130], 7: [6, 31, 56, 81, 106, 131], 8: [7, 32, 57, 82, 107, 132], 9: [8, 33, 58, 83, 108, 133], 10: [9, 34, 59, 84, 109, 134], 11: [10, 35, 60, 85, 110, 135], 12: [11, 36, 61, 86, 111, 136], 13: [12, 37, 62, 87, 112, 137], 14: [13, 38, 63, 88, 113, 138], 15: [14, 39, 64, 89, 114, 139], 16: [15, 40, 65, 90, 115, 140], 17: [16, 41, 66, 91, 116, 141], 18: [17, 42, 67, 92, 117, 142], 19: [18, 43, 68, 93, 118, 143], 20: [19, 44, 69, 94, 119, 144], 21: [20, 45, 70, 95, 120, 145], 22: [21, 46, 71, 96, 121, 146], 23: [22, 47, 72, 97, 122, 147], 24: [23, 48, 73, 98, 123, 148], 25: [24, 49, 74, 99, 124, 149]}\n"
          ]
        }
      ],
      "source": [
        "import multiprocessing\n",
        "import time\n",
        "from csv import reader\n",
        "from google.colab import files\n",
        "import pandas as pd\n",
        "import threading\n",
        "import os\n",
        "import tensorflow as tf\n",
        "import numpy as np\n",
        "import sys\n",
        "import matplotlib.pyplot as plt\n",
        "  \n",
        "data = []\n",
        "with open('/content/drive/MyDrive/Bias_correction_ucl.csv', 'r',encoding=\"ISO-8859-1\") as data:\n",
        "  df_weather = pd.read_csv(data, parse_dates=[\"Date\"])\n",
        "\n",
        "print(df_weather.groupby(['station']).groups)\n",
        "\n"
      ]
    }
  ],
  "metadata": {
    "colab": {
      "provenance": [],
      "mount_file_id": "1wXZczkzQ3eyYT2qbS5T9hkUfUgFTKk1i",
      "authorship_tag": "ABX9TyMXNff7XMYEyQd/9/goPYGU",
      "include_colab_link": true
    },
    "kernelspec": {
      "display_name": "Python 3",
      "name": "python3"
    },
    "language_info": {
      "name": "python"
    }
  },
  "nbformat": 4,
  "nbformat_minor": 0
}